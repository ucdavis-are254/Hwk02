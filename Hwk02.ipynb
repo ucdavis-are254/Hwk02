{
 "cells": [
  {
   "cell_type": "markdown",
   "metadata": {},
   "source": [
    "# Homework 02\n",
    "\n",
    "**Due 2019 ~~Oct 7~~ Wednesday, Oct 9**\n",
    "\n",
    "***Let's make this due October 9 so that you have an entire week to complete it.***"
   ]
  },
  {
   "cell_type": "markdown",
   "metadata": {},
   "source": [
    "## Instructions\n",
    "\n",
    "Please join a team of 2-3 people and create a team on Github Classroom for Homework 02 (check [Canvas](https://canvas.ucdavis.edu/courses/370582/assignments/379948) for the link). To turn it in, just push your final commit to the master branch on your team's repo. \n",
    "\n",
    "I'll have office hours on Friday from 2-3pm, so please feel free to stop by with questions"
   ]
  },
  {
   "cell_type": "markdown",
   "metadata": {},
   "source": [
    "- L&L Problems\n",
    "    + *L&L 1.5*: Static Constrained Optimization (analytic)\n",
    "    + *L&L 1.6*: Static Constrained Optimization (analytic)\n",
    "    + *L&L 1.17*: Static Constrained Optimization (analytic)\n",
    "- M&F Problems\n",
    "    + M&F 3.6: rootfinding with Newton's method for inverse CDF\n",
    "    + M&F 3.7: newton's method to find Competitive eqm. Requires Jacobian + rootfinding"
   ]
  },
  {
   "cell_type": "markdown",
   "metadata": {},
   "source": [
    "### L&L 1.5\n",
    " \n",
    "### L&L 1.6\n",
    "\n",
    "### L&L 1.17\n"
   ]
  },
  {
   "cell_type": "markdown",
   "metadata": {},
   "source": [
    "### M&F 3.6\n",
    "\n",
    "This problem asks you to write a function using Newton's method that computes the inverse of a CDF. Evaluate the inverse CDF of $N(0,1)$, $N(1,2)$, and $logistic(1,2)$ for probabilities $p \\in \\{0.1, 0.3, 0.9\\}$. \n",
    "\n",
    "You'll want to use the [`Distributions.jl`](https://github.com/JuliaStats/Distributions.jl) package. Feel free to cut/paste from the example `newton` code in lecture. \n",
    "\n",
    "You can use the following function as a template.\n",
    "\n",
    "```julia\n",
    "\"\"\"\n",
    "Returns the inverse CDF of distribution `d` given probability `p`\n",
    "\"\"\"\n",
    "function myinversecdf(d::UnivariateDistribution, p::Real)\n",
    "    @assert 0 < p < 1\n",
    "    \n",
    "    return x\n",
    "end\n",
    "```\n",
    "\n",
    "Use `@assert` statements to verify your code is correct. You'll want to test that your answer is *approximately* correct\n",
    "\n",
    "```julia\n",
    "# test vs Julia benchmark function\n",
    "@assert quantile(Normal(), 0.5) ≈ myinversecdf(Normal(), 0.5)\n",
    "\n",
    "# Or test that you got a proper inverse. \n",
    "# Can use `isapprox` instead of ≈\n",
    "for p in [0.1, 0.3, 0.9]\n",
    "    @assert isapprox(cdf(Normal(), myinversecdf(Normal(), p)), p)\n",
    "end\n",
    "```\n",
    "\n"
   ]
  },
  {
   "cell_type": "code",
   "execution_count": null,
   "metadata": {},
   "outputs": [],
   "source": [
    "using Distributions\n",
    "using Plots"
   ]
  },
  {
   "cell_type": "code",
   "execution_count": null,
   "metadata": {},
   "outputs": [],
   "source": [
    "# examples of how to use the Distributions package\n",
    "@assert cdf(Normal(), 0.0) == 0.5\n",
    "@assert quantile(Normal(), 0.5) == 0.0\n",
    "@assert cdf(Normal(1,2), 1.0) == 0.5\n",
    "@show pdf(Normal(),0.0)"
   ]
  },
  {
   "cell_type": "code",
   "execution_count": null,
   "metadata": {},
   "outputs": [],
   "source": [
    "plot(-5.0:0.1:5.0, x -> cdf(Logistic(0,1), x))"
   ]
  },
  {
   "cell_type": "markdown",
   "metadata": {},
   "source": [
    "### M&F 3.7\n",
    "\n",
    "For this problem, characterize the solution as a nonlinear system of equations in 7 variables. You'll need to find the roots of this system (where $f(x)=0$). Do this using the `newton` function from class. \n",
    "\n",
    "One of the things you'll need to provide is the Jacobian which will be a 7-by-7 matrix.\n",
    "\n",
    "I've never coded a Jacobian or a derivative correctly the first time, so you'll probably want to check it against a fininte difference (you can do this using an `@assert` statement again) as we did in class. Supposing that your vector-valued function is `f` and the Jacobian is `g`, you can check whether you're correct with the following:\n",
    "\n",
    "```julia\n",
    "@assert finite_central_diff(f, x0) ≈ g(x0)\n",
    "\n",
    "```\n",
    "\n",
    "You can also have fun thinking about how nice it will be to have the computer automagically differentiate things for you with automatic differentiation! `:)`"
   ]
  }
 ],
 "metadata": {
  "kernelspec": {
   "display_name": "Julia 1.2.0",
   "language": "julia",
   "name": "julia-1.2"
  },
  "language_info": {
   "file_extension": ".jl",
   "mimetype": "application/julia",
   "name": "julia",
   "version": "1.2.0"
  }
 },
 "nbformat": 4,
 "nbformat_minor": 4
}
